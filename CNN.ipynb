{
  "nbformat": 4,
  "nbformat_minor": 0,
  "metadata": {
    "colab": {
      "name": "CNN.ipynb",
      "provenance": [],
      "collapsed_sections": []
    },
    "kernelspec": {
      "name": "python3",
      "display_name": "Python 3"
    },
    "accelerator": "GPU"
  },
  "cells": [
    {
      "cell_type": "code",
      "metadata": {
        "id": "nWPxVusrFAsa",
        "colab_type": "code",
        "outputId": "1b282445-73b3-4371-a8de-de768e227830",
        "colab": {
          "base_uri": "https://localhost:8080/",
          "height": 34
        }
      },
      "source": [
        "try:\n",
        "  %tensorflow_version 2.x\n",
        "except Exception:\n",
        "  pass"
      ],
      "execution_count": 1,
      "outputs": [
        {
          "output_type": "stream",
          "text": [
            "TensorFlow 2.x selected.\n"
          ],
          "name": "stdout"
        }
      ]
    },
    {
      "cell_type": "code",
      "metadata": {
        "id": "k2ewkE0hFA3F",
        "colab_type": "code",
        "outputId": "917b069a-796b-43a7-a93c-0ce5ebbe1e92",
        "colab": {
          "base_uri": "https://localhost:8080/",
          "height": 104
        }
      },
      "source": [
        "from __future__ import absolute_import, division, print_function, unicode_literals, unicode_literals\n",
        "\n",
        "import tensorflow as tf\n",
        "from tensorflow import keras\n",
        "from keras.utils.np_utils import to_categorical\n",
        "\n",
        "import numpy as np\n",
        "import sys\n",
        "\n",
        "print('TensorFlow version : ', tf.__version__)\n",
        "print('Keras version : ', keras.__version__)\n",
        "print('Python version: ', sys.version) "
      ],
      "execution_count": 2,
      "outputs": [
        {
          "output_type": "stream",
          "text": [
            "TensorFlow version :  2.0.0\n",
            "Keras version :  2.2.4-tf\n",
            "Python version:  3.6.9 (default, Nov  7 2019, 10:44:02) \n",
            "[GCC 8.3.0]\n"
          ],
          "name": "stdout"
        },
        {
          "output_type": "stream",
          "text": [
            "Using TensorFlow backend.\n"
          ],
          "name": "stderr"
        }
      ]
    },
    {
      "cell_type": "code",
      "metadata": {
        "id": "_nzuCUFiFBTD",
        "colab_type": "code",
        "outputId": "90d06b71-17b9-4b24-c439-37ec84b5602a",
        "colab": {
          "base_uri": "https://localhost:8080/",
          "height": 52
        }
      },
      "source": [
        "(train_images, train_labels), (test_images, test_labels) = keras.datasets.mnist.load_data()"
      ],
      "execution_count": 3,
      "outputs": [
        {
          "output_type": "stream",
          "text": [
            "Downloading data from https://storage.googleapis.com/tensorflow/tf-keras-datasets/mnist.npz\n",
            "11493376/11490434 [==============================] - 0s 0us/step\n"
          ],
          "name": "stdout"
        }
      ]
    },
    {
      "cell_type": "code",
      "metadata": {
        "id": "STg4E6gGFobu",
        "colab_type": "code",
        "colab": {}
      },
      "source": [
        "train_images = train_images.reshape((train_images.shape[0], train_images.shape[1], train_images.shape[2], 1))\n",
        "train_labels = to_categorical(train_labels)\n",
        "\n",
        "test_images = test_images.reshape((test_images.shape[0], test_images.shape[1], test_images.shape[2], 1))\n",
        "test_labels = to_categorical(test_labels)"
      ],
      "execution_count": 0,
      "outputs": []
    },
    {
      "cell_type": "code",
      "metadata": {
        "id": "vcGORvb5CjHs",
        "colab_type": "code",
        "colab": {}
      },
      "source": [
        "from tensorflow.keras.models import Sequential\n",
        "from tensorflow.keras import optimizers\n",
        "from tensorflow.keras.layers import Dense, Activation, Flatten, Conv2D, MaxPooling2D\n",
        "from tensorflow.keras.layers import BatchNormalization, Dropout"
      ],
      "execution_count": 0,
      "outputs": []
    },
    {
      "cell_type": "code",
      "metadata": {
        "id": "8M6xAI74Cfy7",
        "colab_type": "code",
        "outputId": "7b509694-f5a7-4b3a-c041-b411b7869fbd",
        "colab": {
          "base_uri": "https://localhost:8080/",
          "height": 437
        }
      },
      "source": [
        "# First Model\n",
        "\n",
        "model1 = Sequential()\n",
        "model1.add(Conv2D(input_shape = (train_images.shape[1], train_images.shape[2], train_images.shape[3]),\n",
        "                 filters = 30, kernel_size = (3,3), strides = (1,1), padding = 'same'))\n",
        "model1.add(Activation('relu'))\n",
        "model1.add(Conv2D(filters = 30, kernel_size = (3,3), strides = (1,1), padding = 'same'))\n",
        "model1.add(Activation('relu'))\n",
        "model1.add(MaxPooling2D(pool_size = (2,2)))\n",
        "model1.add(Flatten())\n",
        "model1.add(Dense(64, activation = 'relu'))\n",
        "model1.add(Dense(10, activation = 'softmax'))\n",
        "\n",
        "adam = optimizers.Adam(lr = 0.001)\n",
        "model1.compile(loss = 'categorical_crossentropy', optimizer = adam, metrics = ['accuracy'])\n",
        "model1.summary()"
      ],
      "execution_count": 6,
      "outputs": [
        {
          "output_type": "stream",
          "text": [
            "Model: \"sequential\"\n",
            "_________________________________________________________________\n",
            "Layer (type)                 Output Shape              Param #   \n",
            "=================================================================\n",
            "conv2d (Conv2D)              (None, 28, 28, 30)        300       \n",
            "_________________________________________________________________\n",
            "activation (Activation)      (None, 28, 28, 30)        0         \n",
            "_________________________________________________________________\n",
            "conv2d_1 (Conv2D)            (None, 28, 28, 30)        8130      \n",
            "_________________________________________________________________\n",
            "activation_1 (Activation)    (None, 28, 28, 30)        0         \n",
            "_________________________________________________________________\n",
            "max_pooling2d (MaxPooling2D) (None, 14, 14, 30)        0         \n",
            "_________________________________________________________________\n",
            "flatten (Flatten)            (None, 5880)              0         \n",
            "_________________________________________________________________\n",
            "dense (Dense)                (None, 64)                376384    \n",
            "_________________________________________________________________\n",
            "dense_1 (Dense)              (None, 10)                650       \n",
            "=================================================================\n",
            "Total params: 385,464\n",
            "Trainable params: 385,464\n",
            "Non-trainable params: 0\n",
            "_________________________________________________________________\n"
          ],
          "name": "stdout"
        }
      ]
    },
    {
      "cell_type": "code",
      "metadata": {
        "id": "VV9Tc-W2FK4l",
        "colab_type": "code",
        "outputId": "c31645cb-dfcb-4ad7-c3bc-861ba7ad6e2d",
        "colab": {
          "base_uri": "https://localhost:8080/",
          "height": 647
        }
      },
      "source": [
        "# Second Model\n",
        "\n",
        "model2 = Sequential()\n",
        "model2.add(Conv2D(input_shape = (train_images.shape[1], train_images.shape[2], train_images.shape[3]),\n",
        "                 filters = 30, kernel_size = (3,3), strides = (1,1), padding = 'same', kernel_initializer='he_normal'))\n",
        "model2.add(Activation('relu'))\n",
        "model2.add(Conv2D(filters = 30, kernel_size = (3,3), strides = (1,1), padding = 'same', kernel_initializer='he_normal'))\n",
        "model2.add(Activation('relu'))\n",
        "model2.add(MaxPooling2D(pool_size = (2,2)))\n",
        "model2.add(Conv2D(filters = 30, kernel_size = (3,3), strides = (1,1), padding = 'same', kernel_initializer='he_normal'))\n",
        "model2.add(Activation('relu'))\n",
        "model2.add(Conv2D(filters = 30, kernel_size = (3,3), strides = (1,1), padding = 'same', kernel_initializer='he_normal'))\n",
        "model2.add(Activation('relu'))\n",
        "model2.add(MaxPooling2D(pool_size = (2,2)))\n",
        "model2.add(Flatten())\n",
        "model2.add(Dense(64, activation = 'relu'))\n",
        "model2.add(Dropout(0.3))\n",
        "model2.add(Dense(10, activation = 'softmax'))\n",
        "\n",
        "adam = optimizers.Adam(lr = 0.001)\n",
        "model2.compile(loss = 'categorical_crossentropy', optimizer = adam, metrics = ['accuracy'])\n",
        "model2.summary()"
      ],
      "execution_count": 7,
      "outputs": [
        {
          "output_type": "stream",
          "text": [
            "Model: \"sequential_1\"\n",
            "_________________________________________________________________\n",
            "Layer (type)                 Output Shape              Param #   \n",
            "=================================================================\n",
            "conv2d_2 (Conv2D)            (None, 28, 28, 30)        300       \n",
            "_________________________________________________________________\n",
            "activation_2 (Activation)    (None, 28, 28, 30)        0         \n",
            "_________________________________________________________________\n",
            "conv2d_3 (Conv2D)            (None, 28, 28, 30)        8130      \n",
            "_________________________________________________________________\n",
            "activation_3 (Activation)    (None, 28, 28, 30)        0         \n",
            "_________________________________________________________________\n",
            "max_pooling2d_1 (MaxPooling2 (None, 14, 14, 30)        0         \n",
            "_________________________________________________________________\n",
            "conv2d_4 (Conv2D)            (None, 14, 14, 30)        8130      \n",
            "_________________________________________________________________\n",
            "activation_4 (Activation)    (None, 14, 14, 30)        0         \n",
            "_________________________________________________________________\n",
            "conv2d_5 (Conv2D)            (None, 14, 14, 30)        8130      \n",
            "_________________________________________________________________\n",
            "activation_5 (Activation)    (None, 14, 14, 30)        0         \n",
            "_________________________________________________________________\n",
            "max_pooling2d_2 (MaxPooling2 (None, 7, 7, 30)          0         \n",
            "_________________________________________________________________\n",
            "flatten_1 (Flatten)          (None, 1470)              0         \n",
            "_________________________________________________________________\n",
            "dense_2 (Dense)              (None, 64)                94144     \n",
            "_________________________________________________________________\n",
            "dropout (Dropout)            (None, 64)                0         \n",
            "_________________________________________________________________\n",
            "dense_3 (Dense)              (None, 10)                650       \n",
            "=================================================================\n",
            "Total params: 119,484\n",
            "Trainable params: 119,484\n",
            "Non-trainable params: 0\n",
            "_________________________________________________________________\n"
          ],
          "name": "stdout"
        }
      ]
    },
    {
      "cell_type": "code",
      "metadata": {
        "id": "l4RVdlJ1C7z6",
        "colab_type": "code",
        "colab": {}
      },
      "source": [
        "# Tensor Board Code\n",
        "%reload_ext tensorboard\n",
        "logdir1 = './logs/1'\n",
        "logdir2 = './logs/2'\n",
        "\n",
        "tbCallBack1 = keras.callbacks.TensorBoard(logdir1,\n",
        "                         histogram_freq=1,\n",
        "                         write_graph=True,\n",
        "                         write_images=True)\n",
        "\n",
        "tbCallBack2 = keras.callbacks.TensorBoard(logdir2,\n",
        "                         histogram_freq=1,\n",
        "                         write_graph=True,\n",
        "                         write_images=True)"
      ],
      "execution_count": 0,
      "outputs": []
    },
    {
      "cell_type": "code",
      "metadata": {
        "id": "Cwm6LXK0FKu3",
        "colab_type": "code",
        "outputId": "afe2c875-4817-4322-ae79-3b5a6b801e73",
        "colab": {
          "base_uri": "https://localhost:8080/",
          "height": 402
        }
      },
      "source": [
        "model1.fit(train_images, train_labels, epochs = 10, callbacks=[tbCallBack1])"
      ],
      "execution_count": 9,
      "outputs": [
        {
          "output_type": "stream",
          "text": [
            "Train on 60000 samples\n",
            "Epoch 1/10\n",
            "60000/60000 [==============================] - 18s 307us/sample - loss: 0.2138 - accuracy: 0.9510\n",
            "Epoch 2/10\n",
            "60000/60000 [==============================] - 14s 238us/sample - loss: 0.0607 - accuracy: 0.9814\n",
            "Epoch 3/10\n",
            "60000/60000 [==============================] - 14s 240us/sample - loss: 0.0438 - accuracy: 0.9861\n",
            "Epoch 4/10\n",
            "60000/60000 [==============================] - 14s 239us/sample - loss: 0.0356 - accuracy: 0.9881\n",
            "Epoch 5/10\n",
            "60000/60000 [==============================] - 14s 237us/sample - loss: 0.0284 - accuracy: 0.9912\n",
            "Epoch 6/10\n",
            "60000/60000 [==============================] - 14s 241us/sample - loss: 0.0217 - accuracy: 0.9932\n",
            "Epoch 7/10\n",
            "60000/60000 [==============================] - 14s 238us/sample - loss: 0.0208 - accuracy: 0.9938\n",
            "Epoch 8/10\n",
            "60000/60000 [==============================] - 14s 236us/sample - loss: 0.0181 - accuracy: 0.9944\n",
            "Epoch 9/10\n",
            "60000/60000 [==============================] - 14s 237us/sample - loss: 0.0163 - accuracy: 0.9951\n",
            "Epoch 10/10\n",
            "60000/60000 [==============================] - 14s 236us/sample - loss: 0.0137 - accuracy: 0.9962\n"
          ],
          "name": "stdout"
        },
        {
          "output_type": "execute_result",
          "data": {
            "text/plain": [
              "<tensorflow.python.keras.callbacks.History at 0x7fd8d0026908>"
            ]
          },
          "metadata": {
            "tags": []
          },
          "execution_count": 9
        }
      ]
    },
    {
      "cell_type": "code",
      "metadata": {
        "id": "rD5efvS9C4yq",
        "colab_type": "code",
        "outputId": "a17a4342-1ba2-466c-df60-f6877479e0c4",
        "colab": {
          "base_uri": "https://localhost:8080/",
          "height": 402
        }
      },
      "source": [
        "model2.fit(train_images, train_labels, epochs = 10, callbacks=[tbCallBack2])"
      ],
      "execution_count": 10,
      "outputs": [
        {
          "output_type": "stream",
          "text": [
            "Train on 60000 samples\n",
            "Epoch 1/10\n",
            "60000/60000 [==============================] - 18s 307us/sample - loss: 2.7673 - accuracy: 0.2588\n",
            "Epoch 2/10\n",
            "60000/60000 [==============================] - 17s 292us/sample - loss: 1.4717 - accuracy: 0.4494\n",
            "Epoch 3/10\n",
            "60000/60000 [==============================] - 18s 294us/sample - loss: 0.9347 - accuracy: 0.6570\n",
            "Epoch 4/10\n",
            "60000/60000 [==============================] - 18s 293us/sample - loss: 0.4593 - accuracy: 0.8706\n",
            "Epoch 5/10\n",
            "60000/60000 [==============================] - 18s 294us/sample - loss: 0.2225 - accuracy: 0.9435\n",
            "Epoch 6/10\n",
            "60000/60000 [==============================] - 18s 294us/sample - loss: 0.1395 - accuracy: 0.9621\n",
            "Epoch 7/10\n",
            "60000/60000 [==============================] - 18s 292us/sample - loss: 0.1065 - accuracy: 0.9722\n",
            "Epoch 8/10\n",
            "60000/60000 [==============================] - 18s 300us/sample - loss: 0.0937 - accuracy: 0.9743\n",
            "Epoch 9/10\n",
            "60000/60000 [==============================] - 18s 294us/sample - loss: 0.0792 - accuracy: 0.9783\n",
            "Epoch 10/10\n",
            "60000/60000 [==============================] - 18s 293us/sample - loss: 0.0770 - accuracy: 0.9785\n"
          ],
          "name": "stdout"
        },
        {
          "output_type": "execute_result",
          "data": {
            "text/plain": [
              "<tensorflow.python.keras.callbacks.History at 0x7fd88429b160>"
            ]
          },
          "metadata": {
            "tags": []
          },
          "execution_count": 10
        }
      ]
    },
    {
      "cell_type": "code",
      "metadata": {
        "id": "UhkUyBebDVjv",
        "colab_type": "code",
        "outputId": "fdb60a86-afa1-4b49-b3d6-58c020740749",
        "colab": {
          "base_uri": "https://localhost:8080/",
          "height": 17
        }
      },
      "source": [
        "%tensorboard --logdir ./logs"
      ],
      "execution_count": 11,
      "outputs": [
        {
          "output_type": "display_data",
          "data": {
            "text/html": [
              "\n",
              "    <div id=\"root\"></div>\n",
              "    <script>\n",
              "      (function() {\n",
              "        window.TENSORBOARD_ENV = window.TENSORBOARD_ENV || {};\n",
              "        window.TENSORBOARD_ENV[\"IN_COLAB\"] = true;\n",
              "        document.querySelector(\"base\").href = \"https://localhost:6006\";\n",
              "        function fixUpTensorboard(root) {\n",
              "          const tftb = root.querySelector(\"tf-tensorboard\");\n",
              "          // Disable the fragment manipulation behavior in Colab. Not\n",
              "          // only is the behavior not useful (as the iframe's location\n",
              "          // is not visible to the user), it causes TensorBoard's usage\n",
              "          // of `window.replace` to navigate away from the page and to\n",
              "          // the `localhost:<port>` URL specified by the base URI, which\n",
              "          // in turn causes the frame to (likely) crash.\n",
              "          tftb.removeAttribute(\"use-hash\");\n",
              "        }\n",
              "        function executeAllScripts(root) {\n",
              "          // When `script` elements are inserted into the DOM by\n",
              "          // assigning to an element's `innerHTML`, the scripts are not\n",
              "          // executed. Thus, we manually re-insert these scripts so that\n",
              "          // TensorBoard can initialize itself.\n",
              "          for (const script of root.querySelectorAll(\"script\")) {\n",
              "            const newScript = document.createElement(\"script\");\n",
              "            newScript.type = script.type;\n",
              "            newScript.textContent = script.textContent;\n",
              "            root.appendChild(newScript);\n",
              "            script.remove();\n",
              "          }\n",
              "        }\n",
              "        function setHeight(root, height) {\n",
              "          // We set the height dynamically after the TensorBoard UI has\n",
              "          // been initialized. This avoids an intermediate state in\n",
              "          // which the container plus the UI become taller than the\n",
              "          // final width and cause the Colab output frame to be\n",
              "          // permanently resized, eventually leading to an empty\n",
              "          // vertical gap below the TensorBoard UI. It's not clear\n",
              "          // exactly what causes this problematic intermediate state,\n",
              "          // but setting the height late seems to fix it.\n",
              "          root.style.height = `${height}px`;\n",
              "        }\n",
              "        const root = document.getElementById(\"root\");\n",
              "        fetch(\".\")\n",
              "          .then((x) => x.text())\n",
              "          .then((html) => void (root.innerHTML = html))\n",
              "          .then(() => fixUpTensorboard(root))\n",
              "          .then(() => executeAllScripts(root))\n",
              "          .then(() => setHeight(root, 800));\n",
              "      })();\n",
              "    </script>\n",
              "  "
            ],
            "text/plain": [
              "<IPython.core.display.HTML object>"
            ]
          },
          "metadata": {
            "tags": []
          }
        }
      ]
    },
    {
      "cell_type": "code",
      "metadata": {
        "id": "WToFReMHIXw3",
        "colab_type": "code",
        "outputId": "85b85c9f-a318-4bfd-95ce-b0d858e4205c",
        "colab": {
          "base_uri": "https://localhost:8080/",
          "height": 69
        }
      },
      "source": [
        "test_loss1, test_acc1 = model1.evaluate(test_images,  test_labels, verbose=2)\n",
        "\n",
        "print('\\n첫 번째 모델 테스트 정확도:', test_acc1)"
      ],
      "execution_count": 12,
      "outputs": [
        {
          "output_type": "stream",
          "text": [
            "10000/1 - 1s - loss: 0.0352 - accuracy: 0.9848\n",
            "\n",
            "첫 번째 모델 테스트 정확도: 0.9848\n"
          ],
          "name": "stdout"
        }
      ]
    },
    {
      "cell_type": "code",
      "metadata": {
        "id": "MEhhX9PODRGi",
        "colab_type": "code",
        "outputId": "51844e77-595e-43a1-a9a1-93cd81c1006d",
        "colab": {
          "base_uri": "https://localhost:8080/",
          "height": 69
        }
      },
      "source": [
        "test_loss2, test_acc2 = model2.evaluate(test_images,  test_labels, verbose=2)\n",
        "\n",
        "print('\\n개선된 모델 테스트 정확도:', test_acc2)"
      ],
      "execution_count": 13,
      "outputs": [
        {
          "output_type": "stream",
          "text": [
            "10000/1 - 2s - loss: 0.0212 - accuracy: 0.9895\n",
            "\n",
            "개선된 모델 테스트 정확도: 0.9895\n"
          ],
          "name": "stdout"
        }
      ]
    },
    {
      "cell_type": "code",
      "metadata": {
        "id": "CELfiyz8JJVi",
        "colab_type": "code",
        "colab": {}
      },
      "source": [
        ""
      ],
      "execution_count": 0,
      "outputs": []
    }
  ]
}